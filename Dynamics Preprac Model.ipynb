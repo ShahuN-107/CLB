{
 "cells": [
  {
   "cell_type": "code",
   "execution_count": 1,
   "metadata": {
    "collapsed": true
   },
   "outputs": [],
   "source": [
    "import numpy as np\n",
    "import matplotlib.pyplot as plt\n",
    "from scipy.integrate import odeint\n",
    "from scipy.optimize import fsolve\n",
    "import pandas\n",
    "%matplotlib inline"
   ]
  },
  {
   "cell_type": "code",
   "execution_count": 73,
   "metadata": {
    "collapsed": true
   },
   "outputs": [],
   "source": [
    "#Constants\n",
    "rho, rho_i, Patm, g = 1000, 1000, 86, 9.81 #kg/m^3, kPa, m/s^2\n",
    "#Parameters\n",
    "k1, k2, k3, k4, k5=  15000, 15000, 10000, 10000, 10000 #whatever units * Q = kPa\n",
    "#Heights, measured\n",
    "h_1 = 1 #Between tank B201 and B202\n",
    "h_2 = 0 #Between tank B202 and first junction\n",
    "h_3 = 1 #Between last junction and pipe exit"
   ]
  },
  {
   "cell_type": "code",
   "execution_count": 74,
   "metadata": {
    "collapsed": true
   },
   "outputs": [],
   "source": [
    "#Tank Volume Constants\n",
    "R1, R2, R3 = 43/2000, 137/2000, 15/2000\n",
    "C1 = np.pi*(R1**2 + R2**2 + R1*R2)/3\n",
    "C2 = np.pi*(R2**2 + R3**2 + R2*R3)/3\n",
    "A = np.pi*(143.5/1000)**2"
   ]
  },
  {
   "cell_type": "code",
   "execution_count": 75,
   "metadata": {
    "collapsed": true
   },
   "outputs": [],
   "source": [
    "def dPa(F1):\n",
    "    return 150"
   ]
  },
  {
   "cell_type": "code",
   "execution_count": 137,
   "metadata": {
    "collapsed": true
   },
   "outputs": [],
   "source": [
    "def DEs(var, t):\n",
    "    h1, h2 = var\n",
    "    ss_soln = fsolve(analytical_eqs, [0.01, 0.01, 0.01, 0.01, 0.01, 500], args=(h1, h2))\n",
    "    F1, F2 = ss_soln[0], ss_soln[1]\n",
    "    dh1dt = (Fi - F1)/A\n",
    "    dh2dt = (F1 - F2)/A\n",
    "    return [dh1dt, dh2dt]"
   ]
  },
  {
   "cell_type": "code",
   "execution_count": 138,
   "metadata": {
    "collapsed": true
   },
   "outputs": [],
   "source": [
    "def analytical_eqs(var, h1, h2):\n",
    "    F1, F2, F3, F4, F5, Pi = var\n",
    "    H1 = h_1 + h1\n",
    "    H4 = h_3 + h2\n",
    "    eq1 = Pi - Patm + rho*g*H1/1000 + k1*F1 - dPa(F1) \n",
    "    eq2 = Patm - Pi + k2*F1\n",
    "    eq3 = -rho*g*H4/1000 + k3*F3\n",
    "    eq4 = -rho*g*H4/1000 + k4*F4\n",
    "    eq5 = -rho*g*H4/1000 + k5*F5\n",
    "    eq6 = F3 + F4 + F5 - F2\n",
    "    return [eq1, eq2, eq3, eq4, eq5, eq6]"
   ]
  },
  {
   "cell_type": "code",
   "execution_count": 139,
   "metadata": {
    "collapsed": false
   },
   "outputs": [
    {
     "data": {
      "text/plain": [
       "array([  4.62395000e-03,   3.38445000e-03,   1.12815000e-03,\n",
       "         1.12815000e-03,   1.12815000e-03,   1.55359250e+02])"
      ]
     },
     "execution_count": 139,
     "metadata": {},
     "output_type": "execute_result"
    }
   ],
   "source": [
    "test = fsolve(analytical_eqs, [0.01, 0.01, 0.01, 0.01, 0.01, 100], args=(0.15, 0.15))\n",
    "test"
   ]
  },
  {
   "cell_type": "code",
   "execution_count": 140,
   "metadata": {
    "collapsed": false,
    "scrolled": true
   },
   "outputs": [
    {
     "name": "stdout",
     "output_type": "stream",
     "text": [
      "0.00462395 F1\n",
      "0.00338445 F2\n",
      "0.00112815 F3\n",
      "0.00112815 F4\n",
      "0.00112815 F5\n",
      "155.35925 Pi\n"
     ]
    }
   ],
   "source": [
    "print(test[0], \"F1\")\n",
    "print(test[1], \"F2\")\n",
    "print(test[2], \"F3\")\n",
    "print(test[3], \"F4\")\n",
    "print(test[4], \"F5\")\n",
    "print(test[5], \"Pi\")"
   ]
  },
  {
   "cell_type": "code",
   "execution_count": 151,
   "metadata": {
    "collapsed": false
   },
   "outputs": [],
   "source": [
    "tspan = np.linspace(0, 150, 151)\n",
    "Fi = 0.00462395\n",
    "h0_list = [0.15, 0.15]\n",
    "soln = odeint(DEs, h0_list, tspan)"
   ]
  },
  {
   "cell_type": "code",
   "execution_count": 152,
   "metadata": {
    "collapsed": false
   },
   "outputs": [
    {
     "data": {
      "text/plain": [
       "[<matplotlib.lines.Line2D at 0xe18d860>]"
      ]
     },
     "execution_count": 152,
     "metadata": {},
     "output_type": "execute_result"
    },
    {
     "data": {
      "image/png": "[encoded data removed]",
      "text/plain": [
       "<matplotlib.figure.Figure at 0xe1d1128>"
      ]
     },
     "metadata": {},
     "output_type": "display_data"
    }
   ],
   "source": [
    "plt.figure()\n",
    "h1 = soln[:,0]\n",
    "h2 = soln[:,1]\n",
    "plt.plot(tspan, h1, 'r-')\n",
    "plt.plot(tspan, h2, 'b-')"
   ]
  },
  {
   "cell_type": "code",
   "execution_count": null,
   "metadata": {
    "collapsed": true
   },
   "outputs": [],
   "source": []
  }
 ],
 "metadata": {
  "kernelspec": {
   "display_name": "Python 3",
   "language": "python",
   "name": "python3"
  },
  "language_info": {
   "codemirror_mode": {
    "name": "ipython",
    "version": 3
   },
   "file_extension": ".py",
   "mimetype": "text/x-python",
   "name": "python",
   "nbconvert_exporter": "python",
   "pygments_lexer": "ipython3",
   "version": "3.5.1"
  }
 },
 "nbformat": 4,
 "nbformat_minor": 0
}
