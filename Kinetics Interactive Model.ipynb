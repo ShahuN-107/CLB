{
 "cells": [
  {
   "cell_type": "code",
   "execution_count": 1,
   "metadata": {
    "collapsed": true
   },
   "outputs": [],
   "source": [
    "from numpy import exp, linspace, zeros, shape, array, roots\n",
    "import numpy as np\n",
    "from scipy.optimize import fsolve\n",
    "from scipy.integrate import odeint\n",
    "import ipywidgets as widgets\n",
    "from ipywidgets import FloatSlider, FloatText\n",
    "from ipywidgets import interact, interactive, fixed\n",
    "from matplotlib import pyplot as plt\n",
    "%matplotlib inline"
   ]
  },
  {
   "cell_type": "markdown",
   "metadata": {},
   "source": [
    "Constants:"
   ]
  },
  {
   "cell_type": "code",
   "execution_count": 2,
   "metadata": {
    "collapsed": true
   },
   "outputs": [],
   "source": [
    "R = 8.314 # J/K.mol\n",
    "T = 298.15 #K, should check this in lab\n",
    "Cai,  Cbi = 0.08/2, 0.04/2 #Inlet Concentrations\n",
    "E = 38.6 #kJ/mol"
   ]
  },
  {
   "cell_type": "markdown",
   "metadata": {},
   "source": [
    "E was obtained from \n",
    "https://www.researchgate.net/publication/229360677_Kinetic_Studies_on_Saponification_of_Ethyl_Acetate_Using_an_Innovative_Conductivity-Monitoring_Instrument_with_a_Pulsating_Sensor"
   ]
  },
  {
   "cell_type": "code",
   "execution_count": 3,
   "metadata": {
    "collapsed": true
   },
   "outputs": [],
   "source": [
    "def conv(K_i, K, K_f):\n",
    "    return (K_i - K)/(K_i - K_f)\n",
    "\n",
    "def CNa_x(x):\n",
    "    return 0.02*(1-x)\n",
    "\n",
    "def k0_func(k0, k, E, T): #For use with fsolve!\n",
    "    return k - k0*exp(-E/(R*10e-3*T))\n",
    "\n",
    "def k_func(k0, E, T):\n",
    "    return k0*exp(-E/(R*10e-3*T))"
   ]
  },
  {
   "cell_type": "code",
   "execution_count": 4,
   "metadata": {
    "collapsed": true
   },
   "outputs": [],
   "source": [
    "def pfr(var, V, k, n, m, Q):\n",
    "    Ca, Cb = var\n",
    "    ra = -k*(Ca**n)*(Cb**m)/Q\n",
    "    eq1 = ra\n",
    "    eq2 = ra\n",
    "    return [eq1, eq2]"
   ]
  },
  {
   "cell_type": "code",
   "execution_count": 5,
   "metadata": {
    "collapsed": false,
    "scrolled": false
   },
   "outputs": [
    {
     "data": {
      "image/png": "[encoded data removed]",
      "text/plain": [
       "<matplotlib.figure.Figure at 0x462f518>"
      ]
     },
     "metadata": {},
     "output_type": "display_data"
    },
    {
     "name": "stdout",
     "output_type": "stream",
     "text": [
      "0.8125 Conversion as measured\n"
     ]
    },
    {
     "data": {
      "text/plain": [
       "('Predicted Conversion',\n",
       " 0.81200000000000006,\n",
       " 'Residence Time, s',\n",
       " 360.0,\n",
       " 'min=',\n",
       " 6.0)"
      ]
     },
     "metadata": {},
     "output_type": "display_data"
    },
    {
     "data": {
      "text/plain": [
       "<matplotlib.figure.Figure at 0x8721710>"
      ]
     },
     "metadata": {},
     "output_type": "display_data"
    }
   ],
   "source": [
    "n_widget = FloatSlider(min=1, max=3, step=1, value=1)\n",
    "m_widget = FloatSlider(min=1, max=3, step=1, value=1)\n",
    "k_widget = FloatSlider(min=0.01, max=0.25, step=0.001, value=0.16)\n",
    "\n",
    "Q_dict = {'24' : 0.024/60, '40' : 0.040/60, '50' : 0.050/60, '60' : 0.060/60} #(ml/min)*(1min/60s)\n",
    "\n",
    "K_start_widget = FloatText(value = 0.5, description=\"K start\")\n",
    "K_read_widget = FloatText(value = 0.175, description=\"K read\")\n",
    "K_final_widget = FloatText(value = 0.1, description=\"K infinite\")\n",
    "\n",
    "Ca_dict = {'0.04mol/l' : 0.08/2}\n",
    "Cb_dict = {'0.02mol/l' : 0.04/2}\n",
    "V_pfr = 0.3 #L\n",
    "\n",
    "def integration(k, n, m, Q, Cai, Cbi, K_start, K_read, K_final):\n",
    "    \n",
    "    tau = round(V_pfr/Q, 2)\n",
    "    dV = linspace(0, V_pfr, V_pfr*1000+1)\n",
    "    \n",
    "    soln_pfr = odeint(pfr, [Cai, Cbi], dV, args=(k, n, m, Q))\n",
    "    Ca_pfr, Cb_pfr = zip(*soln_pfr)\n",
    "    conversion_predicted = (Cbi - Cb_pfr[-1])/Cbi\n",
    "    \n",
    "\n",
    "    plt.figure(figsize=(10, 10))\n",
    "    plt.title('Concentration NaOH vs V_pfr, at Q = ' + str(round(Q,6)) + \" L/s,\" + \" k = \" + str(k) + \"L/mol.s\")\n",
    "    plt.xlabel('V_pfr, ml')\n",
    "    plt.ylabel('Concentration NaOH')\n",
    "    plt.axis([0, 1.1*V_pfr, 0, 1.1*Cbi])\n",
    "    conversion_actual = conv(K_start, K_read, K_final) #Conversion equation from notes!\n",
    "    \n",
    "    Cb_out = CNa_x(conversion_actual)\n",
    "    plt.plot(dV, Cb_pfr, 'r-', label='Predicted')\n",
    "    plt.plot(V_pfr, Cb_out, 'b*', label='Measured')\n",
    "    plt.legend(loc='best')\n",
    "    plt.show()\n",
    "    print(conversion_actual, \"Conversion as measured\")\n",
    "    \n",
    "    plt.figure(figsize=(5, 5))\n",
    "    \n",
    "    \n",
    "    return \"Predicted Conversion\", round(conversion_predicted, 3), 'Residence Time, s', tau, 'min=', tau/60\n",
    "\n",
    "interact(integration, k=k_widget, n=n_widget, m=m_widget, Q=Q_dict, Cai=Ca_dict, Cbi=Cb_dict,\n",
    "         K_start=K_start_widget, K_read=K_read_widget, K_final=K_final_widget)"
   ]
  },
  {
   "cell_type": "code",
   "execution_count": 6,
   "metadata": {
    "collapsed": false
   },
   "outputs": [],
   "source": [
    "k = k_widget.value"
   ]
  },
  {
   "cell_type": "code",
   "execution_count": 7,
   "metadata": {
    "collapsed": false
   },
   "outputs": [
    {
     "data": {
      "text/plain": [
       "0.75927719063036636"
      ]
     },
     "execution_count": 7,
     "metadata": {},
     "output_type": "execute_result"
    }
   ],
   "source": [
    "k0 = fsolve(k0_func, 1, args=(k, E, T))[0]\n",
    "k0"
   ]
  },
  {
   "cell_type": "markdown",
   "metadata": {},
   "source": [
    "Batch Reactor Prediction:\n",
    "Note: k0 is solved for. k_func will return the same k as k_widget.value should T_pfr == T_batch"
   ]
  },
  {
   "cell_type": "code",
   "execution_count": 8,
   "metadata": {
    "collapsed": true
   },
   "outputs": [],
   "source": [
    "def batch(var, t, k, n, m):\n",
    "    Ca, Cb = var\n",
    "    eq1 = -k*(Ca**n)*(Cb**m)\n",
    "    eq2 = -k*(Ca**n)*(Cb**m)\n",
    "    return [eq1, eq2]"
   ]
  },
  {
   "cell_type": "code",
   "execution_count": 9,
   "metadata": {
    "collapsed": true
   },
   "outputs": [],
   "source": [
    "batch_time = 15*60#min*60s/min\n",
    "t_batch = linspace(0, batch_time, batch_time+1)\n",
    "Cai, Cbi = 0.04, 0.02 #mol/L, devided by 2!"
   ]
  },
  {
   "cell_type": "code",
   "execution_count": 10,
   "metadata": {
    "collapsed": false,
    "scrolled": false
   },
   "outputs": [
    {
     "data": {
      "image/png": "[encoded data removed]",
      "text/plain": [
       "<matplotlib.figure.Figure at 0x86d2c50>"
      ]
     },
     "metadata": {},
     "output_type": "display_data"
    }
   ],
   "source": [
    "E, T_batch = 38.6, 298.15\n",
    "\n",
    "if T_batch != T:\n",
    "    print(\"A temperature change has been detected! Modifying k value!\")\n",
    "    print(\"Old k:\", k, \"New k:\", k_func(k0, E, T_batch))\n",
    "    \n",
    "Ca_batch, Cb_batch = zip(*odeint(batch, [Cai, Cbi], t_batch, \n",
    "                                 args=(k_func(k0, E, T_batch), n_widget.value, m_widget.value)))\n",
    "\n",
    "plt.figure(figsize=(10, 10))\n",
    "plt.plot(t_batch, Cb_batch, 'r-', label='Model Prediction')\n",
    "\n",
    "#plt.plot EXPERIMENTAL DATA\n",
    "\n",
    "plt.legend(loc='best')\n",
    "plt.title('Concentration of NaOH vs Time')\n",
    "plt.xlabel('Time, s')\n",
    "plt.ylabel('Concentration of NaOH, mol/L')\n",
    "plt.axis([0, batch_time+0.1*batch_time, 0, 0.02])\n",
    "plt.show()"
   ]
  },
  {
   "cell_type": "markdown",
   "metadata": {},
   "source": [
    "Single CSTR: V = 0.3L\n",
    "\n",
    "Two different inlet flow rates (outlet flow = inlet flow at SS)\n",
    "Q1 = 0.024L/min\n",
    "Q2 = 0.040L/min"
   ]
  },
  {
   "cell_type": "code",
   "execution_count": 11,
   "metadata": {
    "collapsed": true
   },
   "outputs": [],
   "source": [
    "def cstr(var, V, Q, k, n, m, Cai, Cbi):\n",
    "    Ca, Cb = var\n",
    "    eq1 = -k*(Ca**n)*(Cb**m)*V/Q - Ca + Cai\n",
    "    eq2 = -k*(Ca**n)*(Cb**m)*V/Q - Cb + Cbi\n",
    "    return [eq1, eq2]"
   ]
  },
  {
   "cell_type": "code",
   "execution_count": 12,
   "metadata": {
    "collapsed": false
   },
   "outputs": [
    {
     "data": {
      "text/plain": [
       "(array([ 0.025,  0.005]), array([ 0.02682301,  0.00682301]))"
      ]
     },
     "execution_count": 12,
     "metadata": {},
     "output_type": "execute_result"
    }
   ],
   "source": [
    "E = 38.6\n",
    "T_cstr = 298.15\n",
    "\n",
    "if T_cstr != T:\n",
    "    print(\"A temperature change has been detected! Modifying k value!\")\n",
    "    print(\"Old k:\", k, \"New k:\", k_func(k0, E, T_cstr))\n",
    "#Q1 = 0.024L/min   \n",
    "cstr_q1 = fsolve(cstr, [0.002, 0.001],\n",
    "                      args=(0.300, 0.024/60, k_func(k0, E, T_cstr), n_widget.value, m_widget.value,\n",
    "                           Cai, Cbi))\n",
    "tau_q1 = 0.300/(0.024/60)\n",
    "#Q2 = 0.040L/min\n",
    "cstr_q2 = fsolve(cstr, [0.002, 0.001],\n",
    "                      args=(0.300, 0.040/60, k_func(k0, E, T_cstr), n_widget.value, m_widget.value,\n",
    "                           Cai, Cbi))\n",
    "tau_q2 = 0.300/(0.040/60)\n",
    "\n",
    "cstr_q1, cstr_q2"
   ]
  },
  {
   "cell_type": "markdown",
   "metadata": {},
   "source": [
    "Two CSTR's in series. V1 = V2 = 150ml\n",
    "\n",
    "Two different inlet flowrates, Q1=0.024L/min and Q2 = 0.040L/min"
   ]
  },
  {
   "cell_type": "code",
   "execution_count": 15,
   "metadata": {
    "collapsed": false
   },
   "outputs": [
    {
     "data": {
      "text/plain": [
       "(array([ 0.02754029,  0.00754029]),\n",
       " array([ 0.02315579,  0.00315579]),\n",
       " array([ 0.02967053,  0.00967053]),\n",
       " array([ 0.02404195,  0.00404195]),\n",
       " 0.84221025706729713,\n",
       " 0.79790269374386202)"
      ]
     },
     "execution_count": 15,
     "metadata": {},
     "output_type": "execute_result"
    }
   ],
   "source": [
    "E = 38.6\n",
    "T_cstr_s = 298.15\n",
    "\n",
    "if T_cstr_s != T:\n",
    "    print(\"A temperature change has been detected! Modifying k value!\")\n",
    "    print(\"Old k:\", k, \"New k:\", k_func(k0, E, T_cstr_s))\n",
    "    \n",
    "#Q1 = 0.024L/min\n",
    "cstr_1_q1 = fsolve(cstr, [0.002, 0.001],\n",
    "                      args=(0.150, 0.024/60, k_func(k0, E, T_cstr), n_widget.value, m_widget.value,\n",
    "                           Cai, Cbi))\n",
    "tau_1_q1 = 0.150/(0.024/60)\n",
    "cstr_2_q1 = fsolve(cstr, [0.002, 0.001],\n",
    "                      args=(0.150, 0.024/60, k_func(k0, E, T_cstr), n_widget.value, m_widget.value,\n",
    "                           cstr_1_q1[0], cstr_1_q1[1]))\n",
    "\n",
    "conv_q1 = (Cbi - cstr_2_q1[1])/Cbi\n",
    "\n",
    "#Q2 = 0.040L/min\n",
    "cstr_1_q2 = fsolve(cstr, [0.002, 0.001],\n",
    "                      args=(0.150, 0.040/60, k_func(k0, E, T_cstr), n_widget.value, m_widget.value,\n",
    "                           Cai, Cbi))\n",
    "tau_1_q2 = 0.150/(0.040/60)\n",
    "cstr_2_q2 = fsolve(cstr, [0.002, 0.001],\n",
    "                      args=(0.150, 0.040/60, k_func(k0, E, T_cstr), n_widget.value, m_widget.value,\n",
    "                           cstr_1_q1[0], cstr_1_q1[1]))\n",
    "\n",
    "conv_q2 = (Cbi-cstr_2_q2[1])/Cbi\n",
    "\n",
    "\n",
    "\n",
    "cstr_1_q1, cstr_2_q1, cstr_1_q2, cstr_2_q2, conv_q1, conv_q2"
   ]
  },
  {
   "cell_type": "markdown",
   "metadata": {},
   "source": [
    "Residence Time Plot"
   ]
  },
  {
   "cell_type": "code",
   "execution_count": 16,
   "metadata": {
    "collapsed": false
   },
   "outputs": [],
   "source": [
    "#Recalculate Values for PFR setup. Can't figure out how to get it\n",
    "#out of the interact object without it clearing it from system memory\n",
    "V_pfr = 0.3 #L\n",
    "Q_pfr = [0.024/60, 0.04/60, 0.05/60, 0.06/60]\n",
    "dV = linspace(0, V_pfr, V_pfr*1000+1)\n",
    "Cb_pfr = []\n",
    "tau_pfr = []\n",
    "for i in Q_pfr:\n",
    "    C_temp = odeint(pfr, [Cai, Cbi], dV, args=(k, n_widget.value, m_widget.value, i))\n",
    "    Ca_temp, Cb_temp = zip(*C_temp)\n",
    "    temp_list = []\n",
    "    for j in dV:\n",
    "        temp_list.append(j/i)\n",
    "    Cb_pfr.append(Cb_temp)\n",
    "    tau_pfr.append(temp_list)"
   ]
  },
  {
   "cell_type": "code",
   "execution_count": 17,
   "metadata": {
    "collapsed": false
   },
   "outputs": [
    {
     "data": {
      "image/png": "[encoded data removed]",
      "text/plain": [
       "<matplotlib.figure.Figure at 0x8eca630>"
      ]
     },
     "metadata": {},
     "output_type": "display_data"
    }
   ],
   "source": [
    "#I haven't done annotations for this plot, as its used ONLY to check\n",
    "#for consistency in the predictions.\n",
    "#Since the PFR and BR are synonymous in terms of reaction rate or conversion per residence time,\n",
    "#and the CSTRs only operate at a rate at outlet conditions,\n",
    "#the current plot makes sense.\n",
    "#PFR/BR lines SHOULD be exactly the same, only differing in total residence time\n",
    "#while CSTRs with a LOWER inlet flow has HIGHER conversion due to HIGHER residence times.\n",
    "#I'd highly recommend plotting this in excel to make annotations easier and\n",
    "#making it easier to read.\n",
    "\n",
    "plt.figure(figsize=(10,10))\n",
    "plt.title('Concentration of NaOH vs Residence Time')\n",
    "plt.ylabel('Concentration of NaOH, mol/L')\n",
    "plt.xlabel('Residence Time, s')\n",
    "plt.plot(tau_pfr[0], Cb_pfr[0], 'r-', tau_pfr[0][-1], Cb_pfr[0][-1], 'r*')\n",
    "plt.plot(tau_pfr[1], Cb_pfr[1], 'b-', tau_pfr[1][-1], Cb_pfr[1][-1], 'b*')\n",
    "plt.plot(tau_pfr[2], Cb_pfr[2], 'g-', tau_pfr[2][-1], Cb_pfr[2][-1], 'g*')\n",
    "plt.plot(tau_pfr[3], Cb_pfr[3], 'y-', tau_pfr[3][-1], Cb_pfr[3][-1], 'y*')\n",
    "plt.plot(t_batch, Cb_batch, 'k--', t_batch[-1], Cb_batch[-1], 'k*')\n",
    "plt.plot(tau_q1, cstr_q1[1], 'c*')\n",
    "plt.plot(tau_q2, cstr_q2[1], 'c*')\n",
    "plt.plot(tau_1_q1, cstr_1_q1[1], 'm*', tau_1_q1, cstr_2_q1[1], 'm*')\n",
    "plt.plot(tau_1_q2, cstr_1_q2[1], 'm*', tau_1_q2, cstr_2_q2[1], 'm*')\n",
    "plt.axis([0, 1000, 0, 0.025])\n",
    "plt.show()"
   ]
  },
  {
   "cell_type": "code",
   "execution_count": null,
   "metadata": {
    "collapsed": true
   },
   "outputs": [],
   "source": []
  }
 ],
 "metadata": {
  "kernelspec": {
   "display_name": "Python 3",
   "language": "python",
   "name": "python3"
  },
  "language_info": {
   "codemirror_mode": {
    "name": "ipython",
    "version": 3
   },
   "file_extension": ".py",
   "mimetype": "text/x-python",
   "name": "python",
   "nbconvert_exporter": "python",
   "pygments_lexer": "ipython3",
   "version": "3.5.1"
  }
 },
 "nbformat": 4,
 "nbformat_minor": 0
}
